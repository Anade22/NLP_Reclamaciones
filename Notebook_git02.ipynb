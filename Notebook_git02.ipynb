{
 "cells": [
  {
   "cell_type": "markdown",
   "metadata": {},
   "source": [
    "# Ejercicio de Procesado de Lenguaje Natural\n",
    "En este ejercicio vamos a utilizar las técnicas aprendidas de NLP para clasificar la tipología de un conjunto de reclamaciones ciudadanas.  \n",
    "Utilizaremos un modelo TF-IDF básico, y luego probaremos con bigrams y una reducción de dimensionalidad LSA para ver si obtenemos alguna mejora.\n",
    "\n",
    "### Importación librerías"
   ]
  },
  {
   "cell_type": "code",
   "execution_count": 103,
   "metadata": {},
   "outputs": [],
   "source": [
    "import pandas as pd\n",
    "import numpy as np\n",
    "import spacy\n",
    "pd.set_option('display.max_colwidth', -1)\n",
    "#Importa el resto de librerías necesarias\n",
    "import re\n",
    "import string\n",
    "import matplotlib.pyplot as plt\n",
    "import gensim\n",
    "nlp = spacy.load('es_core_news_md')\n",
    "%matplotlib inline"
   ]
  },
  {
   "cell_type": "markdown",
   "metadata": {},
   "source": [
    "### Carga de los datos\n",
    "El archivo CSV de datos tiene tres columnas:  \n",
    "- Observaciones: el texto (incidencia) a clasificar\n",
    "- Tipología: la clase (etiqueta) de cada incidencia\n",
    "- Original: característica binaria que no se usa en este problema"
   ]
  },
  {
   "cell_type": "code",
   "execution_count": 104,
   "metadata": {},
   "outputs": [
    {
     "data": {
      "text/html": [
       "<div>\n",
       "<style scoped>\n",
       "    .dataframe tbody tr th:only-of-type {\n",
       "        vertical-align: middle;\n",
       "    }\n",
       "\n",
       "    .dataframe tbody tr th {\n",
       "        vertical-align: top;\n",
       "    }\n",
       "\n",
       "    .dataframe thead th {\n",
       "        text-align: right;\n",
       "    }\n",
       "</style>\n",
       "<table border=\"1\" class=\"dataframe\">\n",
       "  <thead>\n",
       "    <tr style=\"text-align: right;\">\n",
       "      <th></th>\n",
       "      <th>Tipología</th>\n",
       "      <th>Observaciones</th>\n",
       "      <th>Original</th>\n",
       "    </tr>\n",
       "  </thead>\n",
       "  <tbody>\n",
       "    <tr>\n",
       "      <th>0</th>\n",
       "      <td>Vía Pública</td>\n",
       "      <td>hay coches mal aparcados en la calle de los mayos</td>\n",
       "      <td>N</td>\n",
       "    </tr>\n",
       "    <tr>\n",
       "      <th>1</th>\n",
       "      <td>Vía Pública</td>\n",
       "      <td>las calles están llenas de mierdas de los perros por todas partes</td>\n",
       "      <td>N</td>\n",
       "    </tr>\n",
       "    <tr>\n",
       "      <th>2</th>\n",
       "      <td>Vía Pública</td>\n",
       "      <td>hay un socavón en la avenida de ademuz</td>\n",
       "      <td>N</td>\n",
       "    </tr>\n",
       "    <tr>\n",
       "      <th>3</th>\n",
       "      <td>Vía Pública</td>\n",
       "      <td>Rejilla metálica al lado de la carretera frente a casa de Catalina y Pepe en mal estado. Se ha producido una caída.</td>\n",
       "      <td>S</td>\n",
       "    </tr>\n",
       "    <tr>\n",
       "      <th>4</th>\n",
       "      <td>Vía Pública</td>\n",
       "      <td>Cada vez que hay una tormenta se llena la calle de tierra y piedras. Considero que deberían buscar una rápida solución. Gracias</td>\n",
       "      <td>S</td>\n",
       "    </tr>\n",
       "  </tbody>\n",
       "</table>\n",
       "</div>"
      ],
      "text/plain": [
       "     Tipología  \\\n",
       "0  Vía Pública   \n",
       "1  Vía Pública   \n",
       "2  Vía Pública   \n",
       "3  Vía Pública   \n",
       "4  Vía Pública   \n",
       "\n",
       "                                                                                                                     Observaciones  \\\n",
       "0  hay coches mal aparcados en la calle de los mayos                                                                                 \n",
       "1  las calles están llenas de mierdas de los perros por todas partes                                                                 \n",
       "2  hay un socavón en la avenida de ademuz                                                                                            \n",
       "3  Rejilla metálica al lado de la carretera frente a casa de Catalina y Pepe en mal estado. Se ha producido una caída.               \n",
       "4  Cada vez que hay una tormenta se llena la calle de tierra y piedras. Considero que deberían buscar una rápida solución. Gracias   \n",
       "\n",
       "  Original  \n",
       "0  N        \n",
       "1  N        \n",
       "2  N        \n",
       "3  S        \n",
       "4  S        "
      ]
     },
     "execution_count": 104,
     "metadata": {},
     "output_type": "execute_result"
    }
   ],
   "source": [
    "datos=pd.read_csv(\"./incidencias.csv\", sep=\";\")\n",
    "datos.head()"
   ]
  },
  {
   "cell_type": "markdown",
   "metadata": {},
   "source": [
    "Muestra información del DataFrame y la cuenta de muestras en cada clase. ¿cuántas clases distintas hay? ¿están balanceadas?"
   ]
  },
  {
   "cell_type": "code",
   "execution_count": 105,
   "metadata": {},
   "outputs": [
    {
     "data": {
      "text/plain": [
       "Mobiliario Urbano                31\n",
       "Alumbrado                        31\n",
       "Parques y jardines               29\n",
       "Vía Pública                      28\n",
       "Limpieza                         28\n",
       "Agua                             27\n",
       "Alcantarillado                   26\n",
       "Plagas de insectos y roedores    20\n",
       "Name: Tipología, dtype: int64"
      ]
     },
     "execution_count": 105,
     "metadata": {},
     "output_type": "execute_result"
    }
   ],
   "source": [
    "#completarç\n",
    "datos['Tipología'].value_counts()"
   ]
  },
  {
   "cell_type": "markdown",
   "metadata": {},
   "source": [
    "### Limpieza del texto\n",
    "Programa una función para limpiar el texto en los siguientes términos:  \n",
    "- Elimina los números (expresión regular `r'\\d+'`)  \n",
    "- Elimina los signos de puntuación\n",
    "- Convierte todas las palabras a minúscula"
   ]
  },
  {
   "cell_type": "code",
   "execution_count": 106,
   "metadata": {},
   "outputs": [],
   "source": [
    "#completar\n",
    "import re, string, spacy\n",
    "nlp=spacy.load('es_core_news_md')\n",
    "\n",
    "pattern2 = re.compile('[{}]'.format(re.escape(string.punctuation))) #elimina símbolos de puntuación\n",
    "\n",
    "def clean_text(text):\n",
    "    text = re.sub(r'\\d+', '', text) #elimina los números\n",
    "    tokens = nlp(text)\n",
    "    tokens = [tok.lower_ for tok in tokens if not tok.is_punct and not tok.is_space and len(tok)>2]\n",
    "    filtered_tokens = [pattern2.sub('', token) for token in tokens]\n",
    "    filtered_text = ' '.join(filtered_tokens)\n",
    "    \n",
    "    return filtered_text\n",
    "\n",
    "def lemmatize_text(text):\n",
    "    tokens = nlp(text)\n",
    "    lemmatized_tokens = [tok.lemma_ for tok in tokens]\n",
    "    lemmatized_text = ' '.join(lemmatized_tokens)\n",
    "    \n",
    "    return lemmatized_text\n",
    "\n",
    "#Elimina los números (expresión regular r'\\d+')\n",
    "#Elimina los signos de puntuación\n",
    "#Convierte todas las palabras a minúscula"
   ]
  },
  {
   "cell_type": "markdown",
   "metadata": {},
   "source": [
    "Aplica la función de limpieza a la columna 'Observaciones' del DataFrame"
   ]
  },
  {
   "cell_type": "code",
   "execution_count": 107,
   "metadata": {},
   "outputs": [],
   "source": [
    "#completar\n",
    "datos.Observaciones=datos.Observaciones.apply(clean_text)"
   ]
  },
  {
   "cell_type": "markdown",
   "metadata": {},
   "source": [
    "### Funciones auxiliares\n",
    "Completa estas funciones para calcular la matriz BoW y TF-IDF del Corpus de texto. La función `train_predict_evaluate_model` ya está definida por ti."
   ]
  },
  {
   "cell_type": "code",
   "execution_count": 108,
   "metadata": {},
   "outputs": [],
   "source": [
    "#función para extraer el modelo TF-IDF del corpus\n",
    "\n",
    "def bow_extractor(corpus, ngram_range=(1,1), min_df=1, max_df=1.0):\n",
    "    \"\"\"Función que ajusta un modelo BoW sobre un corpus de texto\n",
    "    y devuelve el modelo y la matriz BoW\n",
    "    El corpus se debe pasar como una lista de strings.\"\"\"\n",
    "    #COMPLETAR\n",
    "    vectorizer = CountVectorizer()\n",
    "    features = vectorizer.fit_transform(corpus)\n",
    "    \n",
    "    return vectorizer, features\n",
    "    \n",
    "from sklearn.feature_extraction.text import TfidfVectorizer\n",
    "\n",
    "def tfidf_extractor(corpus, ngram_range=(1,1), min_df=1, max_df=1.0):\n",
    "    \"\"\"Función que ajusta un modelo TF-IDF sobre un corpus de texto\n",
    "    y devuelve el modelo y la matriz TF-IDF\n",
    "    El corpus se debe pasar como una lista de strings.\"\"\"   \n",
    "    #COMPLETAR\n",
    "    vectorizer = TfidfVectorizer()\n",
    "    features = vectorizer.fit_transform(corpus)\n",
    "    \n",
    "    return vectorizer, features\n",
    "\n",
    "    \n",
    "def train_predict_evaluate_model(classifier, \n",
    "                                 train_features, train_labels, \n",
    "                                 test_features, test_labels):\n",
    "    '''Función que entrena un clasificador, lo evalúa sobre un conjunto\n",
    "    de test, y muestra su rendimiento'''\n",
    "    # build model    \n",
    "    classifier.fit(train_features, train_labels)\n",
    "    # predict using model\n",
    "    predictions = classifier.predict(test_features) \n",
    "    # evaluate model prediction performance   \n",
    "    print(classification_report(test_labels, predictions))\n",
    "    return predictions "
   ]
  },
  {
   "cell_type": "markdown",
   "metadata": {},
   "source": [
    "### División del conjunto de datos\n",
    "Divide los datos en un conjunto de entrenamiento (`X_train`, `y_train`) y test (`X_test`, `y_test`) en una proporción 70-30:"
   ]
  },
  {
   "cell_type": "code",
   "execution_count": 109,
   "metadata": {},
   "outputs": [],
   "source": [
    "#Completar\n",
    "from sklearn.model_selection import train_test_split\n",
    "\n",
    "# Split data into training and test sets\n",
    "# Asignamos un 70% a training y un 30% a test\n",
    "X_train, X_test, y_train, y_test = train_test_split(datos['Observaciones'], \n",
    "                                                    datos['Tipología'],\n",
    "                                                    test_size=0.3,\n",
    "                                                    random_state=0)"
   ]
  },
  {
   "cell_type": "markdown",
   "metadata": {},
   "source": [
    "## Clasificación\n",
    "Entrena un clasificador sobre el conjunto de TRAIN y valida en TEST.  \n",
    "Prueba con las matrices BoW y TF-IDF, y utiliza los siguientes clasificadores de la librería `scikit-learn`:  \n",
    "```python\n",
    "modelLR = LogisticRegression()\n",
    "modelNB = GaussianNB()\n",
    "modelSVM = SGDClassifier(loss='hinge', max_iter=100)\n",
    "```\n",
    "Guarda las predicciones de todos los modelos (luego la usarás para mostrar la matriz de confusión)"
   ]
  },
  {
   "cell_type": "code",
   "execution_count": 110,
   "metadata": {},
   "outputs": [],
   "source": [
    "from sklearn.metrics import classification_report\n",
    "from sklearn.naive_bayes import MultinomialNB\n",
    "from sklearn.linear_model import SGDClassifier\n",
    "from sklearn.linear_model import LogisticRegression\n",
    "from sklearn.naive_bayes import GaussianNB"
   ]
  },
  {
   "cell_type": "markdown",
   "metadata": {},
   "source": [
    "## TF_IDF"
   ]
  },
  {
   "cell_type": "code",
   "execution_count": 111,
   "metadata": {},
   "outputs": [],
   "source": [
    "tfidf_vectorizer, tfidf_train_features = tfidf_extractor(X_train)  \n",
    "tfidf_test_features = tfidf_vectorizer.transform(X_test)"
   ]
  },
  {
   "cell_type": "code",
   "execution_count": 112,
   "metadata": {},
   "outputs": [],
   "source": [
    "tfidf_train_features=tfidf_train_features.toarray()\n",
    "tfidf_test_features=tfidf_test_features.toarray()"
   ]
  },
  {
   "cell_type": "code",
   "execution_count": 113,
   "metadata": {},
   "outputs": [
    {
     "name": "stdout",
     "output_type": "stream",
     "text": [
      "Modelo Logistic Regression con características TF-IDF\n",
      "                               precision    recall  f1-score   support\n",
      "\n",
      "                         Agua       0.80      0.50      0.62         8\n",
      "               Alcantarillado       1.00      0.50      0.67        10\n",
      "                    Alumbrado       0.69      0.82      0.75        11\n",
      "                     Limpieza       1.00      0.21      0.35        14\n",
      "            Mobiliario Urbano       0.32      0.86      0.46         7\n",
      "           Parques y jardines       0.33      0.80      0.47         5\n",
      "Plagas de insectos y roedores       0.75      1.00      0.86         3\n",
      "                  Vía Pública       0.40      0.25      0.31         8\n",
      "\n",
      "                     accuracy                           0.55        66\n",
      "                    macro avg       0.66      0.62      0.56        66\n",
      "                 weighted avg       0.72      0.55      0.54        66\n",
      "\n",
      "Modelo Naive Bayes con características TF-IDF\n",
      "                               precision    recall  f1-score   support\n",
      "\n",
      "                         Agua       0.67      0.25      0.36         8\n",
      "               Alcantarillado       0.71      1.00      0.83        10\n",
      "                    Alumbrado       0.57      0.73      0.64        11\n",
      "                     Limpieza       0.70      0.50      0.58        14\n",
      "            Mobiliario Urbano       0.50      0.57      0.53         7\n",
      "           Parques y jardines       0.38      0.60      0.46         5\n",
      "Plagas de insectos y roedores       0.50      0.67      0.57         3\n",
      "                  Vía Pública       0.40      0.25      0.31         8\n",
      "\n",
      "                     accuracy                           0.58        66\n",
      "                    macro avg       0.55      0.57      0.54        66\n",
      "                 weighted avg       0.59      0.58      0.56        66\n",
      "\n",
      "Modelo Linear SVM con características TF-IDF\n",
      "                               precision    recall  f1-score   support\n",
      "\n",
      "                         Agua       1.00      0.62      0.77         8\n",
      "               Alcantarillado       1.00      0.80      0.89        10\n",
      "                    Alumbrado       0.60      0.82      0.69        11\n",
      "                     Limpieza       0.80      0.57      0.67        14\n",
      "            Mobiliario Urbano       0.58      1.00      0.74         7\n",
      "           Parques y jardines       0.40      0.40      0.40         5\n",
      "Plagas de insectos y roedores       0.50      0.67      0.57         3\n",
      "                  Vía Pública       0.71      0.62      0.67         8\n",
      "\n",
      "                     accuracy                           0.70        66\n",
      "                    macro avg       0.70      0.69      0.67        66\n",
      "                 weighted avg       0.74      0.70      0.70        66\n",
      "\n"
     ]
    }
   ],
   "source": [
    "modelLR = LogisticRegression()\n",
    "#modelNB = MultinomialNB()\n",
    "modelNB = GaussianNB()\n",
    "modelSVM = SGDClassifier(loss='hinge', max_iter=100)\n",
    "\n",
    "#Entrenamos los 3 clasificadores con las características TF-IDF\n",
    "modelos = [('Logistic Regression', modelLR),\n",
    "           ('Naive Bayes', modelNB),\n",
    "           ('Linear SVM', modelSVM)]\n",
    "for m, clf in modelos:\n",
    "    print('Modelo {} con características TF-IDF'.format(m))\n",
    "    tfidf_predictions = train_predict_evaluate_model(classifier=clf,\n",
    "                                           train_features=tfidf_train_features,\n",
    "                                           train_labels=y_train,\n",
    "                                           test_features=tfidf_test_features,\n",
    "                                           test_labels=y_test)"
   ]
  },
  {
   "cell_type": "markdown",
   "metadata": {},
   "source": [
    "## BOW"
   ]
  },
  {
   "cell_type": "code",
   "execution_count": 114,
   "metadata": {},
   "outputs": [],
   "source": [
    "from sklearn.metrics import accuracy_score\n",
    "from sklearn.feature_extraction.text import CountVectorizer\n",
    "\n",
    "bow_vectorizer, bow_train_features = bow_extractor(X_train)\n",
    "bow_test_features = bow_vectorizer.transform(X_test)"
   ]
  },
  {
   "cell_type": "code",
   "execution_count": 115,
   "metadata": {},
   "outputs": [],
   "source": [
    "bow_train_features=bow_train_features.toarray()\n",
    "bow_test_features=bow_test_features.toarray()"
   ]
  },
  {
   "cell_type": "code",
   "execution_count": 116,
   "metadata": {},
   "outputs": [
    {
     "name": "stdout",
     "output_type": "stream",
     "text": [
      "Modelo Logistic Regression con características BoW\n",
      "                               precision    recall  f1-score   support\n",
      "\n",
      "                         Agua       0.86      0.75      0.80         8\n",
      "               Alcantarillado       0.57      0.40      0.47        10\n",
      "                    Alumbrado       0.90      0.82      0.86        11\n",
      "                     Limpieza       1.00      0.29      0.44        14\n",
      "            Mobiliario Urbano       0.32      0.86      0.46         7\n",
      "           Parques y jardines       0.33      0.80      0.47         5\n",
      "Plagas de insectos y roedores       0.75      1.00      0.86         3\n",
      "                  Vía Pública       0.67      0.25      0.36         8\n",
      "\n",
      "                     accuracy                           0.58        66\n",
      "                    macro avg       0.67      0.65      0.59        66\n",
      "                 weighted avg       0.73      0.58      0.57        66\n",
      "\n",
      "Modelo Naive Bayes con características BoW\n",
      "                               precision    recall  f1-score   support\n",
      "\n",
      "                         Agua       0.71      0.62      0.67         8\n",
      "               Alcantarillado       0.75      0.90      0.82        10\n",
      "                    Alumbrado       0.62      0.73      0.67        11\n",
      "                     Limpieza       0.67      0.57      0.62        14\n",
      "            Mobiliario Urbano       0.40      0.57      0.47         7\n",
      "           Parques y jardines       0.40      0.40      0.40         5\n",
      "Plagas de insectos y roedores       0.67      0.67      0.67         3\n",
      "                  Vía Pública       0.50      0.25      0.33         8\n",
      "\n",
      "                     accuracy                           0.61        66\n",
      "                    macro avg       0.59      0.59      0.58        66\n",
      "                 weighted avg       0.61      0.61      0.60        66\n",
      "\n",
      "Modelo Linear SVM con características BoW\n",
      "                               precision    recall  f1-score   support\n",
      "\n",
      "                         Agua       0.88      0.88      0.88         8\n",
      "               Alcantarillado       0.86      0.60      0.71        10\n",
      "                    Alumbrado       0.78      0.64      0.70        11\n",
      "                     Limpieza       0.62      0.57      0.59        14\n",
      "            Mobiliario Urbano       0.29      0.57      0.38         7\n",
      "           Parques y jardines       0.29      0.40      0.33         5\n",
      "Plagas de insectos y roedores       0.60      1.00      0.75         3\n",
      "                  Vía Pública       0.67      0.25      0.36         8\n",
      "\n",
      "                     accuracy                           0.59        66\n",
      "                    macro avg       0.62      0.61      0.59        66\n",
      "                 weighted avg       0.66      0.59      0.60        66\n",
      "\n"
     ]
    }
   ],
   "source": [
    "for m, clf in modelos:\n",
    "    print('Modelo {} con características BoW'.format(m))\n",
    "    tfidf_predictions = train_predict_evaluate_model(classifier=clf,\n",
    "                                           train_features=bow_train_features,\n",
    "                                           train_labels=y_train,\n",
    "                                           test_features=bow_test_features,\n",
    "                                           test_labels=y_test)"
   ]
  },
  {
   "cell_type": "markdown",
   "metadata": {},
   "source": [
    "¿Cuál es el modelo que mejor funciona?  \n",
    "Muestra la matriz de confusión sobre el conjunto de test usando el siguiente código (debes sustituir `prediccion` por el array de predicciones de tu mejor modelo):"
   ]
  },
  {
   "cell_type": "markdown",
   "metadata": {},
   "source": [
    "### Modelo Linear SVM con características TF-IDF  el mejor rendimiento"
   ]
  },
  {
   "cell_type": "code",
   "execution_count": 117,
   "metadata": {},
   "outputs": [],
   "source": [
    "prediccion = modelSVM.predict(tfidf_test_features)\n"
   ]
  },
  {
   "cell_type": "code",
   "execution_count": 118,
   "metadata": {},
   "outputs": [
    {
     "data": {
      "text/html": [
       "<div>\n",
       "<style scoped>\n",
       "    .dataframe tbody tr th:only-of-type {\n",
       "        vertical-align: middle;\n",
       "    }\n",
       "\n",
       "    .dataframe tbody tr th {\n",
       "        vertical-align: top;\n",
       "    }\n",
       "\n",
       "    .dataframe thead th {\n",
       "        text-align: right;\n",
       "    }\n",
       "</style>\n",
       "<table border=\"1\" class=\"dataframe\">\n",
       "  <thead>\n",
       "    <tr style=\"text-align: right;\">\n",
       "      <th>Prediccion</th>\n",
       "      <th>Agua</th>\n",
       "      <th>Alcantarillado</th>\n",
       "      <th>Alumbrado</th>\n",
       "      <th>Limpieza</th>\n",
       "      <th>Mobiliario Urbano</th>\n",
       "      <th>Parques y jardines</th>\n",
       "      <th>Plagas de insectos y roedores</th>\n",
       "      <th>Vía Pública</th>\n",
       "      <th>All</th>\n",
       "    </tr>\n",
       "    <tr>\n",
       "      <th>Real</th>\n",
       "      <th></th>\n",
       "      <th></th>\n",
       "      <th></th>\n",
       "      <th></th>\n",
       "      <th></th>\n",
       "      <th></th>\n",
       "      <th></th>\n",
       "      <th></th>\n",
       "      <th></th>\n",
       "    </tr>\n",
       "  </thead>\n",
       "  <tbody>\n",
       "    <tr>\n",
       "      <th>Agua</th>\n",
       "      <td>5</td>\n",
       "      <td>0</td>\n",
       "      <td>0</td>\n",
       "      <td>2</td>\n",
       "      <td>0</td>\n",
       "      <td>1</td>\n",
       "      <td>0</td>\n",
       "      <td>0</td>\n",
       "      <td>8</td>\n",
       "    </tr>\n",
       "    <tr>\n",
       "      <th>Alcantarillado</th>\n",
       "      <td>1</td>\n",
       "      <td>5</td>\n",
       "      <td>0</td>\n",
       "      <td>2</td>\n",
       "      <td>1</td>\n",
       "      <td>1</td>\n",
       "      <td>0</td>\n",
       "      <td>0</td>\n",
       "      <td>10</td>\n",
       "    </tr>\n",
       "    <tr>\n",
       "      <th>Alumbrado</th>\n",
       "      <td>0</td>\n",
       "      <td>0</td>\n",
       "      <td>5</td>\n",
       "      <td>5</td>\n",
       "      <td>1</td>\n",
       "      <td>0</td>\n",
       "      <td>0</td>\n",
       "      <td>0</td>\n",
       "      <td>11</td>\n",
       "    </tr>\n",
       "    <tr>\n",
       "      <th>Limpieza</th>\n",
       "      <td>0</td>\n",
       "      <td>0</td>\n",
       "      <td>0</td>\n",
       "      <td>11</td>\n",
       "      <td>2</td>\n",
       "      <td>0</td>\n",
       "      <td>0</td>\n",
       "      <td>1</td>\n",
       "      <td>14</td>\n",
       "    </tr>\n",
       "    <tr>\n",
       "      <th>Mobiliario Urbano</th>\n",
       "      <td>0</td>\n",
       "      <td>0</td>\n",
       "      <td>0</td>\n",
       "      <td>4</td>\n",
       "      <td>2</td>\n",
       "      <td>1</td>\n",
       "      <td>0</td>\n",
       "      <td>0</td>\n",
       "      <td>7</td>\n",
       "    </tr>\n",
       "    <tr>\n",
       "      <th>Parques y jardines</th>\n",
       "      <td>0</td>\n",
       "      <td>0</td>\n",
       "      <td>0</td>\n",
       "      <td>2</td>\n",
       "      <td>1</td>\n",
       "      <td>2</td>\n",
       "      <td>0</td>\n",
       "      <td>0</td>\n",
       "      <td>5</td>\n",
       "    </tr>\n",
       "    <tr>\n",
       "      <th>Plagas de insectos y roedores</th>\n",
       "      <td>0</td>\n",
       "      <td>0</td>\n",
       "      <td>0</td>\n",
       "      <td>1</td>\n",
       "      <td>0</td>\n",
       "      <td>0</td>\n",
       "      <td>2</td>\n",
       "      <td>0</td>\n",
       "      <td>3</td>\n",
       "    </tr>\n",
       "    <tr>\n",
       "      <th>Vía Pública</th>\n",
       "      <td>0</td>\n",
       "      <td>0</td>\n",
       "      <td>0</td>\n",
       "      <td>6</td>\n",
       "      <td>1</td>\n",
       "      <td>0</td>\n",
       "      <td>0</td>\n",
       "      <td>1</td>\n",
       "      <td>8</td>\n",
       "    </tr>\n",
       "    <tr>\n",
       "      <th>All</th>\n",
       "      <td>6</td>\n",
       "      <td>5</td>\n",
       "      <td>5</td>\n",
       "      <td>33</td>\n",
       "      <td>8</td>\n",
       "      <td>5</td>\n",
       "      <td>2</td>\n",
       "      <td>2</td>\n",
       "      <td>66</td>\n",
       "    </tr>\n",
       "  </tbody>\n",
       "</table>\n",
       "</div>"
      ],
      "text/plain": [
       "Prediccion                     Agua  Alcantarillado  Alumbrado  Limpieza  \\\n",
       "Real                                                                       \n",
       "Agua                           5     0               0          2          \n",
       "Alcantarillado                 1     5               0          2          \n",
       "Alumbrado                      0     0               5          5          \n",
       "Limpieza                       0     0               0          11         \n",
       "Mobiliario Urbano              0     0               0          4          \n",
       "Parques y jardines             0     0               0          2          \n",
       "Plagas de insectos y roedores  0     0               0          1          \n",
       "Vía Pública                    0     0               0          6          \n",
       "All                            6     5               5          33         \n",
       "\n",
       "Prediccion                     Mobiliario Urbano  Parques y jardines  \\\n",
       "Real                                                                   \n",
       "Agua                           0                  1                    \n",
       "Alcantarillado                 1                  1                    \n",
       "Alumbrado                      1                  0                    \n",
       "Limpieza                       2                  0                    \n",
       "Mobiliario Urbano              2                  1                    \n",
       "Parques y jardines             1                  2                    \n",
       "Plagas de insectos y roedores  0                  0                    \n",
       "Vía Pública                    1                  0                    \n",
       "All                            8                  5                    \n",
       "\n",
       "Prediccion                     Plagas de insectos y roedores  Vía Pública  All  \n",
       "Real                                                                            \n",
       "Agua                           0                              0            8    \n",
       "Alcantarillado                 0                              0            10   \n",
       "Alumbrado                      0                              0            11   \n",
       "Limpieza                       0                              1            14   \n",
       "Mobiliario Urbano              0                              0            7    \n",
       "Parques y jardines             0                              0            5    \n",
       "Plagas de insectos y roedores  2                              0            3    \n",
       "Vía Pública                    0                              1            8    \n",
       "All                            2                              2            66   "
      ]
     },
     "execution_count": 118,
     "metadata": {},
     "output_type": "execute_result"
    }
   ],
   "source": [
    "#Matriz de confusión\n",
    "resultados = pd.DataFrame({'Real': y_test, 'Prediccion': prediccion})\n",
    "pd.crosstab(resultados['Real'], resultados['Prediccion'],margins=True)"
   ]
  },
  {
   "cell_type": "markdown",
   "metadata": {},
   "source": [
    "### Mejoras del clasificador\n",
    "Como actividad opcional, intenta mejorar los resultados de estos clasificadores utilizando otras técnicas, como por ejemplo:  \n",
    "- Distintos clasificadores a los utilizados\n",
    "- Realizando una reducción de dimensionalidad LDA o LSA del texto\n",
    "- Utilizando una matriz de características basada en Word Vectors o Paragraph Vectors"
   ]
  },
  {
   "cell_type": "markdown",
   "metadata": {},
   "source": [
    "### 1- Intento mejorar con unigrams y bigrams, pero empeora la predicción"
   ]
  },
  {
   "cell_type": "code",
   "execution_count": 119,
   "metadata": {},
   "outputs": [
    {
     "data": {
      "text/plain": [
       "310"
      ]
     },
     "execution_count": 119,
     "metadata": {},
     "output_type": "execute_result"
    }
   ],
   "source": [
    "#COMPLETAR\n",
    "\n",
    "vect_ngrams = CountVectorizer(min_df=2, ngram_range=(1,2)).fit(X_train)\n",
    "\n",
    "X_train_vectorized = vect_ngrams.transform(X_train)\n",
    "X_test_vectorized = vect_ngrams.transform(X_test)\n",
    "\n",
    "len(vect_ngrams.get_feature_names())"
   ]
  },
  {
   "cell_type": "code",
   "execution_count": 120,
   "metadata": {},
   "outputs": [
    {
     "data": {
      "text/plain": [
       "array(['water', 'pasa', 'vegetación', 'carretera frente', 'parque',\n",
       "       'lavadero', 'lado', 'menos', 'todos los', 'problema'], dtype='<U18')"
      ]
     },
     "execution_count": 120,
     "metadata": {},
     "output_type": "execute_result"
    }
   ],
   "source": [
    "feature_names = np.array(vect_ngrams.get_feature_names())\n",
    "np.random.seed(1234)\n",
    "np.random.choice(feature_names, 10)"
   ]
  },
  {
   "cell_type": "code",
   "execution_count": 121,
   "metadata": {},
   "outputs": [
    {
     "data": {
      "text/plain": [
       "SGDClassifier(alpha=0.0001, average=False, class_weight=None,\n",
       "              early_stopping=False, epsilon=0.1, eta0=0.0, fit_intercept=True,\n",
       "              l1_ratio=0.15, learning_rate='optimal', loss='hinge',\n",
       "              max_iter=100, n_iter_no_change=5, n_jobs=None, penalty='l2',\n",
       "              power_t=0.5, random_state=None, shuffle=True, tol=0.001,\n",
       "              validation_fraction=0.1, verbose=0, warm_start=False)"
      ]
     },
     "execution_count": 121,
     "metadata": {},
     "output_type": "execute_result"
    }
   ],
   "source": [
    "#from sklearn.linear_model import LogisticRegression\n",
    "modelSVM = SGDClassifier(loss='hinge', max_iter=100)\n",
    "#modelLR = LogisticRegression(solver='liblinear')\n",
    "#Entrenamos el modelo con el conjunto de train\n",
    "modelSVM.fit(X_train_vectorized, y_train)"
   ]
  },
  {
   "cell_type": "code",
   "execution_count": 122,
   "metadata": {},
   "outputs": [],
   "source": [
    "prediccion = modelSVM.predict(X_test_vectorized)"
   ]
  },
  {
   "cell_type": "code",
   "execution_count": 123,
   "metadata": {},
   "outputs": [
    {
     "name": "stdout",
     "output_type": "stream",
     "text": [
      "                               precision    recall  f1-score   support\n",
      "\n",
      "                         Agua       0.78      0.88      0.82         8\n",
      "               Alcantarillado       0.86      0.60      0.71        10\n",
      "                    Alumbrado       0.88      0.64      0.74        11\n",
      "                     Limpieza       0.71      0.71      0.71        14\n",
      "            Mobiliario Urbano       0.60      0.86      0.71         7\n",
      "           Parques y jardines       0.12      0.20      0.15         5\n",
      "Plagas de insectos y roedores       0.40      0.67      0.50         3\n",
      "                  Vía Pública       0.40      0.25      0.31         8\n",
      "\n",
      "                     accuracy                           0.62        66\n",
      "                    macro avg       0.59      0.60      0.58        66\n",
      "                 weighted avg       0.66      0.62      0.63        66\n",
      "\n"
     ]
    }
   ],
   "source": [
    "from sklearn.metrics import classification_report\n",
    "\n",
    "print(classification_report(y_test, prediccion))"
   ]
  },
  {
   "cell_type": "markdown",
   "metadata": {},
   "source": [
    "### 2- Voy a probar con otro modelo de Naive Bayes, tampoco mejora"
   ]
  },
  {
   "cell_type": "code",
   "execution_count": 131,
   "metadata": {},
   "outputs": [],
   "source": [
    "# BOW\n",
    "from sklearn.metrics import accuracy_score\n",
    "from sklearn.feature_extraction.text import CountVectorizer\n",
    "\n",
    "from sklearn.feature_extraction.text import TfidfVectorizer\n",
    "\n",
    "def tfidf_extractor(corpus, ngram_range=(1,1), min_df=1, max_df=1.0):\n",
    "    \"\"\"Función que ajusta un modelo TF-IDF sobre un corpus de texto\n",
    "    y devuelve el modelo y la matriz TF-IDF\n",
    "    El corpus se debe pasar como una lista de strings.\"\"\"   \n",
    "    #COMPLETAR\n",
    "    vectorizer = TfidfVectorizer()\n",
    "    features = vectorizer.fit_transform(corpus)\n",
    "    \n",
    "    return vectorizer, features\n",
    "\n",
    "tfidf_vectorizer, tfidf_train_features = tfidf_extractor(X_train)  \n",
    "tfidf_test_features = tfidf_vectorizer.transform(X_test)"
   ]
  },
  {
   "cell_type": "code",
   "execution_count": 133,
   "metadata": {},
   "outputs": [
    {
     "data": {
      "text/plain": [
       "MultinomialNB(alpha=1.0, class_prior=None, fit_prior=True)"
      ]
     },
     "execution_count": 133,
     "metadata": {},
     "output_type": "execute_result"
    }
   ],
   "source": [
    "from sklearn.naive_bayes import MultinomialNB\n",
    "modelNBM = MultinomialNB()\n",
    "\n",
    "modelNBM.fit(tfidf_train_features, y_train)"
   ]
  },
  {
   "cell_type": "code",
   "execution_count": 134,
   "metadata": {},
   "outputs": [],
   "source": [
    "prediccion = modelNBM.predict(tfidf_test_features)"
   ]
  },
  {
   "cell_type": "code",
   "execution_count": 135,
   "metadata": {},
   "outputs": [
    {
     "name": "stdout",
     "output_type": "stream",
     "text": [
      "                               precision    recall  f1-score   support\n",
      "\n",
      "                         Agua       0.80      0.50      0.62         8\n",
      "               Alcantarillado       1.00      0.40      0.57        10\n",
      "                    Alumbrado       0.64      0.82      0.72        11\n",
      "                     Limpieza       1.00      0.07      0.13        14\n",
      "            Mobiliario Urbano       0.29      0.86      0.43         7\n",
      "           Parques y jardines       0.24      0.80      0.36         5\n",
      "Plagas de insectos y roedores       1.00      0.67      0.80         3\n",
      "                  Vía Pública       1.00      0.25      0.40         8\n",
      "\n",
      "                     accuracy                           0.48        66\n",
      "                    macro avg       0.75      0.55      0.50        66\n",
      "                 weighted avg       0.78      0.48      0.47        66\n",
      "\n"
     ]
    }
   ],
   "source": [
    "print(classification_report(y_test, prediccion))"
   ]
  },
  {
   "cell_type": "markdown",
   "metadata": {},
   "source": [
    "### 3- He probado con Word embeding, pero tampoco mejora el modelo original"
   ]
  },
  {
   "cell_type": "code",
   "execution_count": 141,
   "metadata": {},
   "outputs": [
    {
     "data": {
      "text/plain": [
       "(50,)"
      ]
     },
     "execution_count": 141,
     "metadata": {},
     "output_type": "execute_result"
    }
   ],
   "source": [
    "tokens=nlp(datos.Observaciones[1])\n",
    "tokens[1].vector.shape"
   ]
  },
  {
   "cell_type": "code",
   "execution_count": 142,
   "metadata": {},
   "outputs": [
    {
     "data": {
      "text/plain": [
       "(50,)"
      ]
     },
     "execution_count": 142,
     "metadata": {},
     "output_type": "execute_result"
    }
   ],
   "source": [
    "parraf=nlp(datos.Observaciones[1])\n",
    "parraf.vector.shape"
   ]
  },
  {
   "cell_type": "code",
   "execution_count": 143,
   "metadata": {},
   "outputs": [],
   "source": [
    "#Cada vector tiene un tamaño de 50, por tanto hay que crear una matriz de\n",
    "#tamaño (nº documentos,50) para guardar el promedio de los vectores de cada tweet\n",
    "#y guardar en cada fila el correspondiente vector promedio\n",
    "word_embeddings=np.zeros((len(datos.Observaciones), parraf.vector.shape[0]))"
   ]
  },
  {
   "cell_type": "code",
   "execution_count": 144,
   "metadata": {},
   "outputs": [],
   "source": [
    "#Spacy ya calcula el promedio de los vectores de un documento en Doc.vector\n",
    "vectors = [nlp(parraf).vector for parraf in datos.Observaciones]\n",
    "for i,vector in enumerate(vectors):\n",
    "    word_embeddings[i,:]=vector"
   ]
  },
  {
   "cell_type": "code",
   "execution_count": 145,
   "metadata": {},
   "outputs": [
    {
     "data": {
      "text/plain": [
       "(220, 50)"
      ]
     },
     "execution_count": 145,
     "metadata": {},
     "output_type": "execute_result"
    }
   ],
   "source": [
    "word_embeddings.shape"
   ]
  },
  {
   "cell_type": "code",
   "execution_count": 146,
   "metadata": {},
   "outputs": [],
   "source": [
    "from sklearn.model_selection import train_test_split\n",
    "X_train, X_test, y_train, y_test = train_test_split(word_embeddings, \n",
    "                                                    datos['Tipología'], \n",
    "                                                    test_size=0.3,\n",
    "                                                    random_state=0)"
   ]
  },
  {
   "cell_type": "code",
   "execution_count": 147,
   "metadata": {},
   "outputs": [],
   "source": [
    "def train_predict_evaluate_model(classifier, \n",
    "                                 train_features, train_labels, \n",
    "                                 test_features, test_labels):\n",
    "    '''Función que entrena un clasificador, lo evalúa sobre un conjunto\n",
    "    de test, y muestra su rendimiento'''\n",
    "    # build model    \n",
    "    classifier.fit(train_features, train_labels)\n",
    "    # predict using model\n",
    "    predictions = classifier.predict(test_features) \n",
    "    # evaluate model prediction performance   \n",
    "    print(classification_report(test_labels, predictions))\n",
    "    return predictions \n"
   ]
  },
  {
   "cell_type": "code",
   "execution_count": 148,
   "metadata": {},
   "outputs": [
    {
     "name": "stdout",
     "output_type": "stream",
     "text": [
      "Modelo Logistic Regression con características Word Embeddings promediados\n",
      "                               precision    recall  f1-score   support\n",
      "\n",
      "                         Agua       0.83      0.62      0.71         8\n",
      "               Alcantarillado       0.71      0.50      0.59        10\n",
      "                    Alumbrado       0.46      0.55      0.50        11\n",
      "                     Limpieza       0.78      0.50      0.61        14\n",
      "            Mobiliario Urbano       0.25      0.29      0.27         7\n",
      "           Parques y jardines       0.14      0.20      0.17         5\n",
      "Plagas de insectos y roedores       0.38      1.00      0.55         3\n",
      "                  Vía Pública       0.38      0.38      0.38         8\n",
      "\n",
      "                     accuracy                           0.48        66\n",
      "                    macro avg       0.49      0.50      0.47        66\n",
      "                 weighted avg       0.55      0.48      0.50        66\n",
      "\n",
      "Modelo Naive Bayes con características Word Embeddings promediados\n",
      "                               precision    recall  f1-score   support\n",
      "\n",
      "                         Agua       0.67      0.25      0.36         8\n",
      "               Alcantarillado       0.75      0.30      0.43        10\n",
      "                    Alumbrado       0.50      0.64      0.56        11\n",
      "                     Limpieza       0.67      0.43      0.52        14\n",
      "            Mobiliario Urbano       0.27      0.43      0.33         7\n",
      "           Parques y jardines       0.08      0.20      0.11         5\n",
      "Plagas de insectos y roedores       0.33      0.33      0.33         3\n",
      "                  Vía Pública       0.11      0.12      0.12         8\n",
      "\n",
      "                     accuracy                           0.36        66\n",
      "                    macro avg       0.42      0.34      0.35        66\n",
      "                 weighted avg       0.48      0.36      0.39        66\n",
      "\n",
      "Modelo RFB SVM con características Word Embeddings promediados\n",
      "                               precision    recall  f1-score   support\n",
      "\n",
      "                         Agua       0.75      0.38      0.50         8\n",
      "               Alcantarillado       1.00      0.20      0.33        10\n",
      "                    Alumbrado       0.45      0.45      0.45        11\n",
      "                     Limpieza       0.83      0.36      0.50        14\n",
      "            Mobiliario Urbano       0.23      0.43      0.30         7\n",
      "           Parques y jardines       0.13      0.40      0.20         5\n",
      "Plagas de insectos y roedores       0.50      0.67      0.57         3\n",
      "                  Vía Pública       0.27      0.38      0.32         8\n",
      "\n",
      "                     accuracy                           0.38        66\n",
      "                    macro avg       0.52      0.41      0.40        66\n",
      "                 weighted avg       0.59      0.38      0.40        66\n",
      "\n"
     ]
    },
    {
     "name": "stderr",
     "output_type": "stream",
     "text": [
      "C:\\Users\\anade\\Anaconda3\\envs\\env_prueba\\lib\\site-packages\\sklearn\\linear_model\\_logistic.py:940: ConvergenceWarning: lbfgs failed to converge (status=1):\n",
      "STOP: TOTAL NO. of ITERATIONS REACHED LIMIT.\n",
      "\n",
      "Increase the number of iterations (max_iter) or scale the data as shown in:\n",
      "    https://scikit-learn.org/stable/modules/preprocessing.html\n",
      "Please also refer to the documentation for alternative solver options:\n",
      "    https://scikit-learn.org/stable/modules/linear_model.html#logistic-regression\n",
      "  extra_warning_msg=_LOGISTIC_SOLVER_CONVERGENCE_MSG)\n"
     ]
    }
   ],
   "source": [
    "#entrenamos clasificadores con modelos word embeddings\n",
    "from sklearn.naive_bayes import GaussianNB\n",
    "from sklearn.svm import SVC\n",
    "from sklearn.metrics import classification_report\n",
    "from sklearn.naive_bayes import MultinomialNB\n",
    "from sklearn.linear_model import SGDClassifier\n",
    "from sklearn.linear_model import LogisticRegression\n",
    "from sklearn.naive_bayes import GaussianNB\n",
    "\n",
    "modelLR = LogisticRegression()\n",
    "#modelNB = MultinomialNB()\n",
    "modelNB = GaussianNB()\n",
    "modelSVM = SVC(gamma='scale', C=2)\n",
    "\n",
    "modelos = [('Logistic Regression', modelLR),\n",
    "           ('Naive Bayes', modelNB),\n",
    "           ('RFB SVM', modelSVM)]\n",
    "\n",
    "\n",
    "\n",
    "for m, clf in modelos:\n",
    "    print('Modelo {} con características Word Embeddings promediados'.format(m))\n",
    "    tfidf_predictions = train_predict_evaluate_model(classifier=clf,\n",
    "                                           train_features=X_train,\n",
    "                                           train_labels=y_train,\n",
    "                                           test_features=X_test,\n",
    "                                           test_labels=y_test)\n"
   ]
  },
  {
   "cell_type": "code",
   "execution_count": null,
   "metadata": {},
   "outputs": [],
   "source": []
  }
 ],
 "metadata": {
  "kernelspec": {
   "display_name": "Python 3",
   "language": "python",
   "name": "python3"
  },
  "language_info": {
   "codemirror_mode": {
    "name": "ipython",
    "version": 3
   },
   "file_extension": ".py",
   "mimetype": "text/x-python",
   "name": "python",
   "nbconvert_exporter": "python",
   "pygments_lexer": "ipython3",
   "version": "3.7.5"
  }
 },
 "nbformat": 4,
 "nbformat_minor": 4
}
